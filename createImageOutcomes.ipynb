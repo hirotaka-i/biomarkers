{
 "cells": [
  {
   "cell_type": "markdown",
   "metadata": {},
   "source": [
    "# Create DAT analysis file"
   ]
  },
  {
   "cell_type": "code",
   "execution_count": 32,
   "metadata": {},
   "outputs": [],
   "source": [
    "library(data.table);library(dplyr)\n",
    "# Read data and check the dup.\n",
    "dat_res = fread('../PDcohorts//PPMI/download181018/DATScan_Analysis.csv')\n",
    "dat_dx = fread('../PDcohorts//PPMI/download181018/DaTSCAN_SPECT_Visual_Interpretation_Assessment.csv')\n",
    "dat_loc = fread('../PDcohorts//PPMI/download181018/DaTscan_Imaging.csv')\n",
    "dx = fread('../PDcohorts/PPMI/out181018/DEMOG_DIAG.csv')\n",
    "\n",
    "# Give latelality from SC visit and create mean values\n",
    "dat_lat = dat_res %>% filter(EVENT_ID == \"SC\") %>% \n",
    "  mutate(lateral = ifelse( (CAUDATE_R + PUTAMEN_R) > (CAUDATE_L + PUTAMEN_L), \"R\", \"L\" )) %>% \n",
    "  select(PATNO, lateral)\n",
    "dat_res = inner_join(dat_res, dat_lat, by=\"PATNO\") %>% \n",
    "  mutate(STRIATUM_MEAN= (PUTAMEN_R + PUTAMEN_L + CAUDATE_R + CAUDATE_L)/4,\n",
    "         PUTAMEN_MEAN = (PUTAMEN_R + PUTAMEN_L)/2,\n",
    "         CAUDATE_MEAN = (CAUDATE_R + CAUDATE_L)/2) %>% \n",
    "  mutate(CAUDATE_IPS = ifelse(lateral==\"R\", CAUDATE_R, CAUDATE_L),\n",
    "         CAUDATE_CNT = ifelse(lateral==\"R\", CAUDATE_L, CAUDATE_R),\n",
    "         PUTAMEN_IPS = ifelse(lateral==\"R\", PUTAMEN_R, PUTAMEN_L),\n",
    "         PUTAMEN_CNT = ifelse(lateral==\"R\", PUTAMEN_L, PUTAMEN_R))\n",
    "\n",
    "\n",
    "# Solve duplication \n",
    "# dat_res %>% group_by(PATNO, EVENT_ID) %>% filter(n()>1)\n",
    "# dat_dx %>% group_by(PATNO) %>% filter(n()>1)\n",
    "# dat_loc %>% group_by(PATNO, EVENT_ID) %>% filter(n()>1)\n",
    "# dat_res %>% filter(PATNO %in% c(3861, 4120))\n",
    "dat_dx = dat_dx %>% distinct(PATNO, .keep_all = T)"
   ]
  },
  {
   "cell_type": "code",
   "execution_count": 33,
   "metadata": {},
   "outputs": [
    {
     "data": {
      "text/plain": [
       "        RECRUIT\n",
       "EVENT_ID GENPD  HC  PD REGPD REGUN SWEDD\n",
       "     SC    188 195 435     2     2    77\n",
       "     ST      0   0  32     0     0     0\n",
       "     U01     3   1  11     0     0     5\n",
       "     U02     0   0   2     0     0     0\n",
       "     V04     2   1 337     0     0     4\n",
       "     V06    60   0 322     1     0    46\n",
       "     V10     0   1 272     0     0     2"
      ]
     },
     "metadata": {},
     "output_type": "display_data"
    }
   ],
   "source": [
    "# Combine data\n",
    "df = left_join(dat_res, dat_dx[,c(\"PATNO\", \"VISINTRP\")], by = \"PATNO\") %>% \n",
    "  left_join(., dat_loc[, c(\"PATNO\", \"EVENT_ID\", \"SCNLOC\")], by = c(\"PATNO\", \"EVENT_ID\")) %>% \n",
    "  left_join(., dx[,c(\"PATNO\", \"RECRUIT\", \"FEMALE\", \"BIRTHDT\", \"DX_INIT\", \"DIAG\")], by = \"PATNO\")\n",
    "\n",
    "# Table\n",
    "df %>% with(table(EVENT_ID, RECRUIT))"
   ]
  },
  {
   "cell_type": "markdown",
   "metadata": {},
   "source": [
    "In the following analysis, exclude the obs from the small cells (count < 40)    \n",
    "#### Eliminate unexpected obs small number cohorts. "
   ]
  },
  {
   "cell_type": "code",
   "execution_count": 34,
   "metadata": {},
   "outputs": [
    {
     "data": {
      "text/plain": [
       "        RECRUIT\n",
       "EVENT_ID GENPD  HC  PD SWEDD\n",
       "     SC    188 195 435    77\n",
       "     V04     0   0 337     0\n",
       "     V06    60   0 322    46\n",
       "     V10     0   0 272     0"
      ]
     },
     "metadata": {},
     "output_type": "display_data"
    }
   ],
   "source": [
    "df_original = df\n",
    "df = df_original %>% \n",
    "  group_by(EVENT_ID, RECRUIT) %>% filter(n()>40) %>% \n",
    "  ungroup() %>% data.frame()\n",
    "\n",
    "# Table\n",
    "df %>% with(table(EVENT_ID, RECRUIT))"
   ]
  },
  {
   "cell_type": "markdown",
   "metadata": {},
   "source": [
    "#### Check the distribution of values"
   ]
  },
  {
   "cell_type": "code",
   "execution_count": 36,
   "metadata": {},
   "outputs": [
    {
     "data": {
      "text/html": [
       "<strong>png:</strong> 2"
      ],
      "text/latex": [
       "\\textbf{png:} 2"
      ],
      "text/markdown": [
       "**png:** 2"
      ],
      "text/plain": [
       "png \n",
       "  2 "
      ]
     },
     "metadata": {},
     "output_type": "display_data"
    },
    {
     "data": {
      "text/html": [
       "<strong>png:</strong> 2"
      ],
      "text/latex": [
       "\\textbf{png:} 2"
      ],
      "text/markdown": [
       "**png:** 2"
      ],
      "text/plain": [
       "png \n",
       "  2 "
      ]
     },
     "metadata": {},
     "output_type": "display_data"
    },
    {
     "data": {
      "text/html": [
       "<strong>png:</strong> 2"
      ],
      "text/latex": [
       "\\textbf{png:} 2"
      ],
      "text/markdown": [
       "**png:** 2"
      ],
      "text/plain": [
       "png \n",
       "  2 "
      ]
     },
     "metadata": {},
     "output_type": "display_data"
    },
    {
     "data": {
      "text/html": [
       "<strong>png:</strong> 2"
      ],
      "text/latex": [
       "\\textbf{png:} 2"
      ],
      "text/markdown": [
       "**png:** 2"
      ],
      "text/plain": [
       "png \n",
       "  2 "
      ]
     },
     "metadata": {},
     "output_type": "display_data"
    },
    {
     "data": {
      "text/html": [
       "<strong>png:</strong> 2"
      ],
      "text/latex": [
       "\\textbf{png:} 2"
      ],
      "text/markdown": [
       "**png:** 2"
      ],
      "text/plain": [
       "png \n",
       "  2 "
      ]
     },
     "metadata": {},
     "output_type": "display_data"
    },
    {
     "data": {
      "text/html": [
       "<strong>png:</strong> 2"
      ],
      "text/latex": [
       "\\textbf{png:} 2"
      ],
      "text/markdown": [
       "**png:** 2"
      ],
      "text/plain": [
       "png \n",
       "  2 "
      ]
     },
     "metadata": {},
     "output_type": "display_data"
    }
   ],
   "source": [
    "outcomes = names(df)[8:14]\n",
    "draw_density = function(df, col, thres = 4, mcex = 1, plot = TRUE){\n",
    "  t = df[, col] %>% t %>% as.vector\n",
    "  miss = is.na(t)\n",
    "  N = sum(!miss)\n",
    "  X = t[!miss]\n",
    "  M = mean(X)\n",
    "  S = sd(X)\n",
    "  Out = (X < M - thres*S) + (X > M + thres*S)\n",
    "  Noutlr = sum(Out)\n",
    "  X=X[Out==0]\n",
    "  M = mean(X)\n",
    "  S = sd(X)\n",
    "  if(plot){\n",
    "    plot(density(X), main=sprintf(\"%s, N=%.0f \\n (%.0f outlier excluded)\", col, N-Noutlr, Noutlr), cex.main = mcex)\n",
    "    curve(dnorm(x, M, S), min(X), max(X), add=T, col=\"green\")\n",
    "  }\n",
    "  t[Out==1] = NA\n",
    "  return(t)\n",
    "}\n",
    "df_sc = df %>% filter(EVENT_ID == \"SC\") \n",
    "png('figure/dat_raw_PD_BL.png', width=1600, height=800)\n",
    "par(mfrow = c(2,4))\n",
    "t = lapply(outcomes, function(x) draw_density(col = x, df = subset(df_sc, RECRUIT == \"PD\")))\n",
    "dev.off()\n",
    "# log transformation\n",
    "df_sc_log = df_sc\n",
    "df_sc_log[outcomes] = log(df_sc_log[outcomes])\n",
    "png('figure/dat_log_PD_BL.png', width=1600, height=800)\n",
    "par(mfrow = c(2,4))\n",
    "t = lapply(outcomes, function(x) draw_density(col = x, df = subset(df_sc_log, RECRUIT == \"PD\")))\n",
    "dev.off()\n",
    "\n",
    "\n",
    "# PD V10\n",
    "df_v10 = df %>% filter(EVENT_ID == \"V10\")\n",
    "png('figure/dat_raw_PD_V10.png', width=1200, height=600)\n",
    "par(mfrow = c(2,4))\n",
    "t = lapply(outcomes, function(x) draw_density(col = x, df = subset(df_v10, RECRUIT == \"PD\")))\n",
    "dev.off()\n",
    "# log transformation\n",
    "df_v10_log = df_v10\n",
    "df_v10_log[outcomes] = log(df_v10_log[outcomes])\n",
    "png('figure/dat_log_PD_V10.png', width=1200, height=600)\n",
    "par(mfrow = c(2,4))\n",
    "t = lapply(outcomes, function(x) draw_density(col = x, df = subset(df_v10_log, RECRUIT == \"PD\")))\n",
    "dev.off()\n",
    "\n",
    "# HC\n",
    "png('figure/dat_raw_HC_BL.png', width=1200, height=600)\n",
    "par(mfrow = c(2,4))\n",
    "t = lapply(outcomes, function(x) draw_density(col = x, df = subset(df_sc, RECRUIT %in% c(\"HC\", \"SWEDD\"))))\n",
    "dev.off()\n",
    "png('figure/dat_log_HC_BL.png', width=1200, height=600)\n",
    "par(mfrow = c(2,4))\n",
    "t = lapply(outcomes, function(x) draw_density(col = x, df = subset(df_sc_log, RECRUIT %in% c(\"HC\", \"SWEDD\"))))\n",
    "dev.off()\n"
   ]
  },
  {
   "cell_type": "markdown",
   "metadata": {},
   "source": [
    "1. [raw density plot of value at screening for PD](figure/dat_raw_PD_BL.png)\n",
    "2. [log density plot of value at screening for PD](figure/dat_log_PD_BL.png)\n",
    "3. [raw density plot of value at visit 10 for PD](figure/dat_raw_PD_V10.png)\n",
    "4. [log density plot of value at visit 10 for PD](figure/dat_log_PD_V10.png)\n",
    "3. [raw density plot of value at screening for HC/SWEDD](figure/dat_raw_HC_BL.png)\n",
    "4. [log density plot of value at screening for HC/SWEDD](figure/dat_log_HC_BL.png)\n",
    "\n",
    "For PD, log transformation is better at baseline but shows relative deviation at V10    \n",
    "For HC, the log-transformations are better.     \n",
    "**For consistency, use the log-transformed values**"
   ]
  },
  {
   "cell_type": "code",
   "execution_count": 23,
   "metadata": {},
   "outputs": [],
   "source": [
    "df[outcomes] = log(df[outcomes])\n",
    "outcomes = paste(outcomes, 'log', sep = \"_\")\n",
    "names(df)[8:14]= outcomes\n",
    "# exclude outliers\n",
    "df[outcomes] = lapply(outcomes, function(x) draw_density(df, col = x, plot = FALSE))"
   ]
  },
  {
   "cell_type": "markdown",
   "metadata": {},
   "source": [
    "#### Check if different scanning locations affect the results on SC-> OK."
   ]
  },
  {
   "cell_type": "code",
   "execution_count": 24,
   "metadata": {},
   "outputs": [
    {
     "data": {
      "text/html": [
       "<table>\n",
       "<thead><tr><th scope=col>Estimate</th><th scope=col>Std. Error</th><th scope=col>t value</th><th scope=col>Pr(&gt;|t|)</th></tr></thead>\n",
       "<tbody>\n",
       "\t<tr><td>-0.004761792</td><td>0.07809518  </td><td>-0.06097421 </td><td>0.9513947   </td></tr>\n",
       "\t<tr><td>-0.066151249</td><td>0.10654847  </td><td>-0.62085590 </td><td>0.5348678   </td></tr>\n",
       "\t<tr><td> 0.020006095</td><td>0.06745803  </td><td> 0.29657099 </td><td>0.7668695   </td></tr>\n",
       "\t<tr><td> 0.025402491</td><td>0.06461469  </td><td> 0.39313803 </td><td>0.6943202   </td></tr>\n",
       "\t<tr><td> 0.013879041</td><td>0.07381734  </td><td> 0.18801871 </td><td>0.8509087   </td></tr>\n",
       "\t<tr><td>-0.074860345</td><td>0.10345239  </td><td>-0.72362121 </td><td>0.4695057   </td></tr>\n",
       "\t<tr><td>-0.055589046</td><td>0.11847114  </td><td>-0.46922013 </td><td>0.6390376   </td></tr>\n",
       "</tbody>\n",
       "</table>\n"
      ],
      "text/latex": [
       "\\begin{tabular}{llll}\n",
       " Estimate & Std. Error & t value & Pr(>\\textbar{}t\\textbar{})\\\\\n",
       "\\hline\n",
       "\t -0.004761792 & 0.07809518   & -0.06097421  & 0.9513947   \\\\\n",
       "\t -0.066151249 & 0.10654847   & -0.62085590  & 0.5348678   \\\\\n",
       "\t  0.020006095 & 0.06745803   &  0.29657099  & 0.7668695   \\\\\n",
       "\t  0.025402491 & 0.06461469   &  0.39313803  & 0.6943202   \\\\\n",
       "\t  0.013879041 & 0.07381734   &  0.18801871  & 0.8509087   \\\\\n",
       "\t -0.074860345 & 0.10345239   & -0.72362121  & 0.4695057   \\\\\n",
       "\t -0.055589046 & 0.11847114   & -0.46922013  & 0.6390376   \\\\\n",
       "\\end{tabular}\n"
      ],
      "text/markdown": [
       "\n",
       "Estimate | Std. Error | t value | Pr(>|t|) | \n",
       "|---|---|---|---|---|---|---|\n",
       "| -0.004761792 | 0.07809518   | -0.06097421  | 0.9513947    | \n",
       "| -0.066151249 | 0.10654847   | -0.62085590  | 0.5348678    | \n",
       "|  0.020006095 | 0.06745803   |  0.29657099  | 0.7668695    | \n",
       "|  0.025402491 | 0.06461469   |  0.39313803  | 0.6943202    | \n",
       "|  0.013879041 | 0.07381734   |  0.18801871  | 0.8509087    | \n",
       "| -0.074860345 | 0.10345239   | -0.72362121  | 0.4695057    | \n",
       "| -0.055589046 | 0.11847114   | -0.46922013  | 0.6390376    | \n",
       "\n",
       "\n"
      ],
      "text/plain": [
       "     Estimate     Std. Error t value     Pr(>|t|) \n",
       "[1,] -0.004761792 0.07809518 -0.06097421 0.9513947\n",
       "[2,] -0.066151249 0.10654847 -0.62085590 0.5348678\n",
       "[3,]  0.020006095 0.06745803  0.29657099 0.7668695\n",
       "[4,]  0.025402491 0.06461469  0.39313803 0.6943202\n",
       "[5,]  0.013879041 0.07381734  0.18801871 0.8509087\n",
       "[6,] -0.074860345 0.10345239 -0.72362121 0.4695057\n",
       "[7,] -0.055589046 0.11847114 -0.46922013 0.6390376"
      ]
     },
     "metadata": {},
     "output_type": "display_data"
    }
   ],
   "source": [
    "df_sc = df %>% filter(EVENT_ID == \"SC\") \n",
    "lapply(outcomes, function(x){\n",
    "    lm(df_sc[, x] ~ df_sc$SCNLOC) %>% summary %>% coef() %>% .[2,]\n",
    "  }) %>% do.call(rbind, .)"
   ]
  },
  {
   "cell_type": "markdown",
   "metadata": {},
   "source": [
    "Scanning location (1,2) doesn't seem to affect the results"
   ]
  },
  {
   "cell_type": "code",
   "execution_count": 27,
   "metadata": {},
   "outputs": [
    {
     "name": "stderr",
     "output_type": "stream",
     "text": [
      "Warning message:\n",
      "\"Removed 6 rows containing non-finite values (stat_boxplot).\"Warning message:\n",
      "\"Removed 3 rows containing non-finite values (stat_boxplot).\"Warning message:\n",
      "\"Removed 10 rows containing non-finite values (stat_boxplot).\"Warning message:\n",
      "\"Removed 12 rows containing non-finite values (stat_boxplot).\"Warning message:\n",
      "\"Removed 7 rows containing non-finite values (stat_boxplot).\"Warning message:\n",
      "\"Removed 5 rows containing non-finite values (stat_boxplot).\"Warning message:\n",
      "\"Removed 2 rows containing non-finite values (stat_boxplot).\""
     ]
    }
   ],
   "source": [
    "# see the chronological chagne\n",
    "require(ggplot2)\n",
    "# png(\"figure/chronological.png\", width = 1800, height = 600)\n",
    "# par(mfcol = c(2,6))\n",
    "p = list()\n",
    "for (C in outcomes){ # first 4 are CSF_Hb and MTDNAs\n",
    "  df$Y = df[, C]\n",
    "  p[[C]] = ggplot(data = df, aes(x = EVENT_ID, y = Y)) +\n",
    "    geom_boxplot(aes(fill=RECRUIT)) + \n",
    "    ylab(paste(C))\n",
    "  df$Y = NULL\n",
    "}\n",
    "library(gridExtra)\n",
    "ggsave(\"figure/dat.png\", arrangeGrob(grobs=p, nrow = 2), width = 12, height = 6, dpi=100)"
   ]
  },
  {
   "cell_type": "markdown",
   "metadata": {},
   "source": [
    "[The chronological change](figure/dat.png)     \n",
    "The signal dicreases as time goes by.    \n",
    "The distribution is right skewed. Try log-transformation\n",
    "\n",
    "# Create laterality and mean outcome"
   ]
  },
  {
   "cell_type": "code",
   "execution_count": 29,
   "metadata": {},
   "outputs": [
    {
     "data": {
      "text/plain": [
       "     PATNO         EVENT_ID           CAUDATE_R       CAUDATE_L    \n",
       " Min.   : 3000   Length:1932        Min.   :0.060   Min.   :0.200  \n",
       " 1st Qu.: 3352   Class :character   1st Qu.:1.400   1st Qu.:1.420  \n",
       " Median : 3612   Mode  :character   Median :1.860   Median :1.870  \n",
       " Mean   : 9072                      Mean   :1.941   Mean   :1.946  \n",
       " 3rd Qu.: 4023                      3rd Qu.:2.413   3rd Qu.:2.370  \n",
       " Max.   :72784                      Max.   :4.960   Max.   :4.750  \n",
       "                                                                   \n",
       "   PUTAMEN_R        PUTAMEN_L        lateral          STRIATUM_MEAN_log  \n",
       " Min.   :0.0300   Min.   :0.0100   Length:1932        Min.   :-1.386294  \n",
       " 1st Qu.:0.5200   1st Qu.:0.5175   Class :character   1st Qu.: 0.008092  \n",
       " Median :0.7100   Median :0.7000   Mode  :character   Median : 0.258511  \n",
       " Mean   :0.9429   Mean   :0.9214                      Mean   : 0.274818  \n",
       " 3rd Qu.:1.1200   3rd Qu.:1.0500                      3rd Qu.: 0.539048  \n",
       " Max.   :3.7600   Max.   :4.2700                      Max.   : 1.444563  \n",
       "                                                      NA's   :6          \n",
       " PUTAMEN_MEAN_log   CAUDATE_MEAN_log  CAUDATE_IPS_log   CAUDATE_CNT_log  \n",
       " Min.   :-2.25379   Min.   :-0.9943   Min.   :-0.8675   Min.   :-1.2379  \n",
       " 1st Qu.:-0.61619   1st Qu.: 0.3646   1st Qu.: 0.4574   1st Qu.: 0.2700  \n",
       " Median :-0.32850   Median : 0.6179   Median : 0.7080   Median : 0.5365  \n",
       " Mean   :-0.24224   Mean   : 0.6011   Mean   : 0.6732   Mean   : 0.5155  \n",
       " 3rd Qu.: 0.02956   3rd Qu.: 0.8565   3rd Qu.: 0.9243   3rd Qu.: 0.7930  \n",
       " Max.   : 1.35841   Max.   : 1.5655   Max.   : 1.6014   Max.   : 1.5282  \n",
       " NA's   :3          NA's   :10        NA's   :12        NA's   :7        \n",
       " PUTAMEN_IPS_log   PUTAMEN_CNT_log     VISINTRP             SCNLOC     \n",
       " Min.   :-2.5257   Min.   :-2.8134   Length:1932        Min.   :1.000  \n",
       " 1st Qu.:-0.5276   1st Qu.:-0.7550   Class :character   1st Qu.:1.000  \n",
       " Median :-0.1985   Median :-0.4780   Mode  :character   Median :1.000  \n",
       " Mean   :-0.1397   Mean   :-0.3807                      Mean   :1.027  \n",
       " 3rd Qu.: 0.2070   3rd Qu.:-0.1278                      3rd Qu.:1.000  \n",
       " Max.   : 1.4516   Max.   : 1.2892                      Max.   :2.000  \n",
       " NA's   :5         NA's   :2                            NA's   :90     \n",
       "   RECRUIT              FEMALE          BIRTHDT         DX_INIT         \n",
       " Length:1932        Min.   :0.0000   Min.   :-16650   Length:1932       \n",
       " Class :character   1st Qu.:0.0000   1st Qu.: -9711   Class :character  \n",
       " Mode  :character   Median :0.0000   Median : -7154   Mode  :character  \n",
       "                    Mean   :0.3732   Mean   : -6912                     \n",
       "                    3rd Qu.:1.0000   3rd Qu.: -4232                     \n",
       "                    Max.   :1.0000   Max.   :  5265                     \n",
       "                                                                        \n",
       "     DIAG          \n",
       " Length:1932       \n",
       " Class :character  \n",
       " Mode  :character  \n",
       "                   \n",
       "                   \n",
       "                   \n",
       "                   "
      ]
     },
     "metadata": {},
     "output_type": "display_data"
    }
   ],
   "source": [
    "summary(df)"
   ]
  },
  {
   "cell_type": "code",
   "execution_count": 30,
   "metadata": {},
   "outputs": [],
   "source": [
    "fwrite(df, 'output/DAT.csv')"
   ]
  }
 ],
 "metadata": {
  "kernelspec": {
   "display_name": "R/3.5",
   "language": "R",
   "name": "ir35"
  },
  "language_info": {
   "codemirror_mode": "r",
   "file_extension": ".r",
   "mimetype": "text/x-r-source",
   "name": "R",
   "pygments_lexer": "r",
   "version": "3.5.0"
  }
 },
 "nbformat": 4,
 "nbformat_minor": 2
}
