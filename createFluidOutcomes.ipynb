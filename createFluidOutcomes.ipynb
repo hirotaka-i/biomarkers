{
 "cells": [
  {
   "cell_type": "markdown",
   "metadata": {},
   "source": [
    "# Fluid biomarker analysis\n",
    "## From Biospecimen file\n",
    "### Covariates\n",
    "* ApoE Genotype (covariate)\n",
    "* CSF Hemoglobin (covariate)\n",
    "* SNCA_multiplication\n",
    "\n",
    "### Outcomes\n",
    "1. Cross-sectional analysis (Count > 300 for people with PD/Control)\n",
    "* RNAs\n",
    "* serum_IGF-1\n",
    "\n",
    "2. Longitudinal analysis (Count > 900 for people with PD/Control)\n",
    "* CSF\n",
    "    * Abeta 1-42\n",
    "    * pTau, tTau\n",
    "    * Alpha-synuclein\n",
    "* MTDNAs\n",
    "* RNAs (very few follow-ups for controls.)\n",
    "\n",
    "Check the distribution and conduct necessary transformation.\n",
    "\n",
    "\n",
    "\n",
    "=================Start====================\n",
    "\n",
    "\n",
    "## Look at the observation duplications"
   ]
  },
  {
   "cell_type": "code",
   "execution_count": 1,
   "metadata": {},
   "outputs": [
    {
     "name": "stderr",
     "output_type": "stream",
     "text": [
      "\n",
      "Attaching package: 'dplyr'\n",
      "\n",
      "The following objects are masked from 'package:stats':\n",
      "\n",
      "    filter, lag\n",
      "\n",
      "The following objects are masked from 'package:base':\n",
      "\n",
      "    intersect, setdiff, setequal, union\n",
      "\n",
      "Warning message:\n",
      "\"package 'data.table' was built under R version 3.5.2\"\n",
      "Attaching package: 'data.table'\n",
      "\n",
      "The following objects are masked from 'package:dplyr':\n",
      "\n",
      "    between, first, last\n",
      "\n",
      "Warning message:\n",
      "\"package 'ggplot2' was built under R version 3.5.2\"Warning message:\n",
      "\"package 'bindrcpp' was built under R version 3.5.2\""
     ]
    },
    {
     "data": {
      "text/plain": [
       "         N\n",
       "PROJECTID     1     2     3\n",
       "      104   694     0     0\n",
       "      105  5876  1130   114\n",
       "      106 21665     0     0\n",
       "      112  4572     0     0\n",
       "      113   596     0     0\n",
       "      114     0  4000     0\n",
       "      119 15921     0     0\n",
       "      122  6749     0     0\n",
       "      123   794   396     0\n",
       "      124  2900   170     0\n",
       "      125  8700   510     0\n",
       "      127     1    20     0\n",
       "      129    11    44     0\n",
       "      130  3768     0     0\n",
       "      134  2900   170     0"
      ]
     },
     "metadata": {},
     "output_type": "display_data"
    }
   ],
   "source": [
    "library(dplyr);library(data.table);library(ggplot2)\n",
    "t = fread('../PDcohorts/PPMI/download181018/Current_Biospecimen_Analysis_Results.csv')\n",
    "t[t==\"\"]=NA\n",
    "t[t==\"N/A\"]=NA\n",
    "t[t==\"Undetermined\"]=NA\n",
    "\n",
    "t = t %>% \n",
    "  arrange(desc(1:nrow(.))) %>% # arrange descending to get the last with distinct\n",
    "  group_by(PATNO, TYPE, TESTNAME, CLINICAL_EVENT, PROJECTID) %>% \n",
    "  mutate(N = n()) %>% ungroup()\n",
    "t %>% with(table(PROJECTID, N)) # Duplication exists\n"
   ]
  },
  {
   "cell_type": "markdown",
   "metadata": {},
   "source": [
    "The table indicates that some observations were duplicated/multiple. > keep the last record.\n",
    "\n",
    "## Cross sectional obs (PD and HC > 300)"
   ]
  },
  {
   "cell_type": "code",
   "execution_count": 2,
   "metadata": {},
   "outputs": [
    {
     "data": {
      "text/plain": [
       "                   DIAGNOSIS\n",
       "TEST                Control  PD\n",
       "  RNA_DHPR              139 202\n",
       "  RNA_DJ-1              139 202\n",
       "  RNA_FBXO7-001         139 202\n",
       "  RNA_FBXO7-005         139 202\n",
       "  RNA_FBXO7-007         139 202\n",
       "  RNA_FBXO7-008         139 202\n",
       "  RNA_FBXO7-010         139 202\n",
       "  RNA_GLT25D1           139 202\n",
       "  RNA_GUSB              139 202\n",
       "  RNA_MON1B             139 202\n",
       "  RNA_RPL13             139 202\n",
       "  RNA_SNCA-007          139 202\n",
       "  RNA_SNCA-3UTR-1       139 202\n",
       "  RNA_SNCA-3UTR-2       139 202\n",
       "  RNA_SNCA-E3E4         139 202\n",
       "  RNA_SNCA-E4E6         139 202\n",
       "  RNA_SRCAP             139 202\n",
       "  RNA_UBC               139 202\n",
       "  RNA_ZNF746            139 202\n",
       "  Serum_Serum IGF-1     191 405"
      ]
     },
     "metadata": {},
     "output_type": "display_data"
    }
   ],
   "source": [
    "t1 = t %>%\n",
    "  distinct(PATNO, TYPE, TESTNAME, CLINICAL_EVENT, PROJECTID, .keep_all = T) %>% \n",
    "  filter(!grepl('^rs', TESTNAME)) %>% \n",
    "  filter(!grepl('rep\\ 1', TESTNAME)) %>%\n",
    "  filter(!grepl('SCORE', TESTNAME)) %>% \n",
    "  mutate(TEST = paste(TYPE, TESTNAME, sep= \"_\"))\n",
    "\n",
    "longOUTCOME = t1 %>% filter(CLINICAL_EVENT != \"BL\") %>%\n",
    "  distinct(TEST) %>% t %>% as.vector\n",
    "\n",
    "CS = t1 %>% filter(!(TEST %in% longOUTCOME)) %>%\n",
    "  filter(DIAGNOSIS %in% c(\"PD\", \"Control\")) %>% \n",
    "  group_by(TEST) %>% filter(n()>300) %>%\n",
    "  ungroup\n",
    "CS %>% with(table(TEST, DIAGNOSIS))\n",
    "csOutcomes = CS %>% distinct(TEST) %>% t %>% as.vector"
   ]
  },
  {
   "cell_type": "markdown",
   "metadata": {},
   "source": [
    "## Longitudinal obs (PD and HC > 900)"
   ]
  },
  {
   "cell_type": "code",
   "execution_count": 3,
   "metadata": {},
   "outputs": [
    {
     "data": {
      "text/plain": [
       "                                                  CLINICAL_EVENT\n",
       "TEST                                                BL  ST U01 V01 V02 V04 V05\n",
       "  Cerebrospinal Fluid_ABeta 1-42__Control          190   0   1   4 159 153   1\n",
       "  Cerebrospinal Fluid_ABeta 1-42__PD               414 131   1   4 252 305   1\n",
       "  Cerebrospinal Fluid_CSF Alpha-synuclein__Control 190   0   1   4 159 153   1\n",
       "  Cerebrospinal Fluid_CSF Alpha-synuclein__PD      414 131   1   4 252 305   1\n",
       "  Cerebrospinal Fluid_CSF Hemoglobin__Control      190   0   1   4 159 153   1\n",
       "  Cerebrospinal Fluid_CSF Hemoglobin__PD           414 131   1   4 252 305   1\n",
       "  Cerebrospinal Fluid_MTDNA_DELETION__Control      176   0   0   0   0   0   0\n",
       "  Cerebrospinal Fluid_MTDNA_DELETION__PD           380   0   0   0   0   0   0\n",
       "  Cerebrospinal Fluid_MTDNA_ND1_CN__Control        176   0   0   0   0   0   0\n",
       "  Cerebrospinal Fluid_MTDNA_ND1_CN__PD             380   0   0   0   0   0   0\n",
       "  Cerebrospinal Fluid_MTDNA_ND4_CN__Control        176   0   0   0   0   0   0\n",
       "  Cerebrospinal Fluid_MTDNA_ND4_CN__PD             380   0   0   0   0   0   0\n",
       "  Cerebrospinal Fluid_pTau__Control                190   0   1   4 159 153   1\n",
       "  Cerebrospinal Fluid_pTau__PD                     414 131   1   4 252 305   1\n",
       "  Cerebrospinal Fluid_tTau__Control                190   0   1   4 159 153   1\n",
       "  Cerebrospinal Fluid_tTau__PD                     414 131   1   4 252 305   1\n",
       "  RNA_ALDH1A1 (rep 2)__Control                     149   0   0   0   0   2   0\n",
       "  RNA_ALDH1A1 (rep 2)__PD                          279   0   0   0   0  87   0\n",
       "  RNA_GAPDH (rep 2)__Control                       149   0   0   0   0   2   0\n",
       "  RNA_GAPDH (rep 2)__PD                            279   0   0   0   0  87   0\n",
       "  RNA_HSPA8 (rep 2)__Control                       149   0   0   0   0   2   0\n",
       "  RNA_HSPA8 (rep 2)__PD                            279   0   0   0   0  87   0\n",
       "  RNA_LAMB2 (rep 2)__Control                       149   0   0   0   0   2   0\n",
       "  RNA_LAMB2 (rep 2)__PD                            280   0   0   0   0  87   0\n",
       "  RNA_PGK1 (rep 2)__Control                        149   0   0   0   0   2   0\n",
       "  RNA_PGK1 (rep 2)__PD                             279   0   0   0   0  87   0\n",
       "  RNA_PSMC4 (rep 2)__Control                       149   0   0   0   0   2   0\n",
       "  RNA_PSMC4 (rep 2)__PD                            279   0   0   0   0  87   0\n",
       "  RNA_SKP1 (rep 2)__Control                        149   0   0   0   0   2   0\n",
       "  RNA_SKP1 (rep 2)__PD                             279   0   0   0   0  87   0\n",
       "  RNA_UBE2K (rep 2)__Control                       149   0   0   0   0   2   0\n",
       "  RNA_UBE2K (rep 2)__PD                            279   0   0   0   0  87   0\n",
       "                                                  CLINICAL_EVENT\n",
       "TEST                                               V06 V07 V08\n",
       "  Cerebrospinal Fluid_ABeta 1-42__Control          136   0 114\n",
       "  Cerebrospinal Fluid_ABeta 1-42__PD               294   1 229\n",
       "  Cerebrospinal Fluid_CSF Alpha-synuclein__Control 136   0 114\n",
       "  Cerebrospinal Fluid_CSF Alpha-synuclein__PD      294   1 229\n",
       "  Cerebrospinal Fluid_CSF Hemoglobin__Control      136   0 114\n",
       "  Cerebrospinal Fluid_CSF Hemoglobin__PD           294   1 229\n",
       "  Cerebrospinal Fluid_MTDNA_DELETION__Control        0   0 120\n",
       "  Cerebrospinal Fluid_MTDNA_DELETION__PD             0   0 264\n",
       "  Cerebrospinal Fluid_MTDNA_ND1_CN__Control          0   0 120\n",
       "  Cerebrospinal Fluid_MTDNA_ND1_CN__PD               0   0 264\n",
       "  Cerebrospinal Fluid_MTDNA_ND4_CN__Control          0   0 120\n",
       "  Cerebrospinal Fluid_MTDNA_ND4_CN__PD               0   0 264\n",
       "  Cerebrospinal Fluid_pTau__Control                136   0 114\n",
       "  Cerebrospinal Fluid_pTau__PD                     294   1 229\n",
       "  Cerebrospinal Fluid_tTau__Control                136   0 114\n",
       "  Cerebrospinal Fluid_tTau__PD                     294   1 229\n",
       "  RNA_ALDH1A1 (rep 2)__Control                       1   0   1\n",
       "  RNA_ALDH1A1 (rep 2)__PD                          189   1 201\n",
       "  RNA_GAPDH (rep 2)__Control                         1   0   1\n",
       "  RNA_GAPDH (rep 2)__PD                            189   1 201\n",
       "  RNA_HSPA8 (rep 2)__Control                         1   0   1\n",
       "  RNA_HSPA8 (rep 2)__PD                            189   1 201\n",
       "  RNA_LAMB2 (rep 2)__Control                         1   0   1\n",
       "  RNA_LAMB2 (rep 2)__PD                            189   1 201\n",
       "  RNA_PGK1 (rep 2)__Control                          1   0   1\n",
       "  RNA_PGK1 (rep 2)__PD                             189   1 201\n",
       "  RNA_PSMC4 (rep 2)__Control                         1   0   1\n",
       "  RNA_PSMC4 (rep 2)__PD                            189   1 201\n",
       "  RNA_SKP1 (rep 2)__Control                          1   0   1\n",
       "  RNA_SKP1 (rep 2)__PD                             189   1 201\n",
       "  RNA_UBE2K (rep 2)__Control                         1   0   1\n",
       "  RNA_UBE2K (rep 2)__PD                            189   1 201"
      ]
     },
     "metadata": {},
     "output_type": "display_data"
    }
   ],
   "source": [
    "LT = t1 %>% filter(TEST %in% longOUTCOME) %>%\n",
    "  filter(DIAGNOSIS %in% c(\"PD\", \"Control\")) %>% \n",
    "  group_by(TEST) %>% filter(n()>900) %>%\n",
    "  ungroup\n",
    "LT %>% mutate(TEST = paste(TEST, DIAGNOSIS, sep= \"__\")) %>% \n",
    "  with(table(TEST, CLINICAL_EVENT))\n",
    "ltOutcome = LT %>% distinct(TEST) %>% t %>% as.vector\n",
    "\n",
    "# # Delete small number columns\n",
    "# LT %>% mutate(TEST = paste(TEST, DIAGNOSIS, sep= \"__\")) %>% \n",
    "#   filter(!(CLINICAL_EVENT %in% c(\"UO1\", \"V01\", \"V05\", \"V07\"))) %>%\n",
    "#   with(table(TEST, CLINICAL_EVENT))\n"
   ]
  },
  {
   "cell_type": "markdown",
   "metadata": {},
   "source": [
    "## Check the distributions of outcomes at baseline 1\n",
    "Raw Data"
   ]
  },
  {
   "cell_type": "code",
   "execution_count": 4,
   "metadata": {},
   "outputs": [
    {
     "data": {
      "text/plain": [
       "     PATNO        DIAGNOSIS         Cerebrospinal Fluid_ABeta 1-42\n",
       " Min.   : 3000   Length:931         Min.   : 208.7                \n",
       " 1st Qu.: 3370   Class :character   1st Qu.: 639.5                \n",
       " Median : 3760   Mode  :character   Median : 858.7                \n",
       " Mean   :14573                      Mean   : 932.7                \n",
       " 3rd Qu.:16612                      3rd Qu.:1144.0                \n",
       " Max.   :92834                      Max.   :3707.0                \n",
       "                                    NA's   :34                    \n",
       " Cerebrospinal Fluid_CSF Alpha-synuclein Cerebrospinal Fluid_CSF Hemoglobin\n",
       " Min.   : 398.8                          Min.   :  20.0                    \n",
       " 1st Qu.:1091.9                          1st Qu.:  43.1                    \n",
       " Median :1452.0                          Median :  98.7                    \n",
       " Mean   :1570.8                          Mean   : 189.4                    \n",
       " 3rd Qu.:1892.3                          3rd Qu.: 219.8                    \n",
       " Max.   :5256.9                          Max.   :1227.3                    \n",
       " NA's   :26                              NA's   :640                       \n",
       " Cerebrospinal Fluid_MTDNA_DELETION Cerebrospinal Fluid_MTDNA_ND1_CN\n",
       " Min.   : 0.00                      Min.   :    0.0                 \n",
       " 1st Qu.: 0.00                      1st Qu.:   84.3                 \n",
       " Median :18.40                      Median :  230.0                 \n",
       " Mean   :20.59                      Mean   :  627.5                 \n",
       " 3rd Qu.:36.60                      3rd Qu.:  656.0                 \n",
       " Max.   :92.50                      Max.   :14900.0                 \n",
       " NA's   :374                        NA's   :374                     \n",
       " Cerebrospinal Fluid_MTDNA_ND4_CN Cerebrospinal Fluid_pTau\n",
       " Min.   :    0.0                  Min.   : 8.01           \n",
       " 1st Qu.:   63.6                  1st Qu.:11.28           \n",
       " Median :  175.0                  Median :14.03           \n",
       " Mean   :  516.0                  Mean   :15.68           \n",
       " 3rd Qu.:  568.0                  3rd Qu.:18.32           \n",
       " Max.   :12400.0                  Max.   :73.61           \n",
       " NA's   :374                      NA's   :99              \n",
       " Cerebrospinal Fluid_tTau RNA_ALDH1A1 (rep 2)    RNA_DHPR         RNA_DJ-1   \n",
       " Min.   : 80.93           Min.   :23.37       Min.   :  1.00   Min.   :   1  \n",
       " 1st Qu.:130.60           1st Qu.:25.55       1st Qu.: 66.00   1st Qu.: 839  \n",
       " Median :162.30           Median :25.98       Median : 87.00   Median :1079  \n",
       " Mean   :177.47           Mean   :26.03       Mean   : 90.93   Mean   :1114  \n",
       " 3rd Qu.:209.10           3rd Qu.:26.52       3rd Qu.:110.00   3rd Qu.:1294  \n",
       " Max.   :580.80           Max.   :29.43       Max.   :314.00   Max.   :3204  \n",
       " NA's   :46               NA's   :464         NA's   :590      NA's   :590   \n",
       " RNA_FBXO7-001   RNA_FBXO7-005    RNA_FBXO7-007   RNA_FBXO7-008   \n",
       " Min.   :  1.0   Min.   :  1.00   Min.   : 1.00   Min.   :  1.00  \n",
       " 1st Qu.:236.0   1st Qu.: 70.00   1st Qu.:11.00   1st Qu.: 58.00  \n",
       " Median :301.0   Median : 88.00   Median :14.00   Median : 74.00  \n",
       " Mean   :312.4   Mean   : 93.16   Mean   :15.49   Mean   : 78.77  \n",
       " 3rd Qu.:375.0   3rd Qu.:110.00   3rd Qu.:19.00   3rd Qu.: 94.00  \n",
       " Max.   :713.0   Max.   :262.00   Max.   :78.00   Max.   :258.00  \n",
       " NA's   :590     NA's   :590      NA's   :590     NA's   :590     \n",
       " RNA_FBXO7-010   RNA_GAPDH (rep 2)  RNA_GLT25D1       RNA_GUSB    \n",
       " Min.   :  1.0   Min.   :18.27     Min.   :  1.0   Min.   :  1.0  \n",
       " 1st Qu.: 95.0   1st Qu.:19.63     1st Qu.:221.0   1st Qu.: 80.0  \n",
       " Median :124.0   Median :19.95     Median :282.0   Median :104.0  \n",
       " Mean   :128.6   Mean   :19.99     Mean   :302.2   Mean   :112.5  \n",
       " 3rd Qu.:153.0   3rd Qu.:20.33     3rd Qu.:354.0   3rd Qu.:136.0  \n",
       " Max.   :392.0   Max.   :22.78     Max.   :847.0   Max.   :325.0  \n",
       " NA's   :590     NA's   :464       NA's   :590     NA's   :590    \n",
       " RNA_HSPA8 (rep 2) RNA_LAMB2 (rep 2)   RNA_MON1B     RNA_PGK1 (rep 2)\n",
       " Min.   :19.34     Min.   :28.70     Min.   :  1.0   Min.   :19.68   \n",
       " 1st Qu.:21.12     1st Qu.:30.75     1st Qu.:108.0   1st Qu.:20.85   \n",
       " Median :21.45     Median :31.34     Median :146.0   Median :21.25   \n",
       " Mean   :21.47     Mean   :31.44     Mean   :154.1   Mean   :21.24   \n",
       " 3rd Qu.:21.83     3rd Qu.:31.99     3rd Qu.:189.0   3rd Qu.:21.60   \n",
       " Max.   :23.57     Max.   :35.86     Max.   :406.0   Max.   :23.62   \n",
       " NA's   :464       NA's   :465       NA's   :590     NA's   :464     \n",
       " RNA_PSMC4 (rep 2)   RNA_RPL13      RNA_SKP1 (rep 2)  RNA_SNCA-007  \n",
       " Min.   :24.59     Min.   :   1.0   Min.   :19.53    Min.   : 1.00  \n",
       " 1st Qu.:25.81     1st Qu.: 274.0   1st Qu.:20.74    1st Qu.:12.00  \n",
       " Median :26.15     Median : 373.0   Median :21.00    Median :18.00  \n",
       " Mean   :26.29     Mean   : 422.8   Mean   :21.09    Mean   :20.68  \n",
       " 3rd Qu.:26.71     3rd Qu.: 514.0   3rd Qu.:21.41    3rd Qu.:27.00  \n",
       " Max.   :30.50     Max.   :1460.0   Max.   :22.88    Max.   :80.00  \n",
       " NA's   :465       NA's   :590      NA's   :464      NA's   :590    \n",
       " RNA_SNCA-3UTR-1 RNA_SNCA-3UTR-2  RNA_SNCA-E3E4   RNA_SNCA-E4E6 \n",
       " Min.   :   3    Min.   :   1.0   Min.   :   28   Min.   :   3  \n",
       " 1st Qu.:1080    1st Qu.: 320.0   1st Qu.: 8205   1st Qu.:1647  \n",
       " Median :1612    Median : 495.0   Median :12041   Median :2405  \n",
       " Mean   :1868    Mean   : 565.2   Mean   :12665   Mean   :2674  \n",
       " 3rd Qu.:2507    3rd Qu.: 721.0   3rd Qu.:15870   3rd Qu.:3467  \n",
       " Max.   :7452    Max.   :2448.0   Max.   :37325   Max.   :8792  \n",
       " NA's   :590     NA's   :590      NA's   :590     NA's   :590   \n",
       "   RNA_SRCAP        RNA_UBC      RNA_UBE2K (rep 2)   RNA_ZNF746   \n",
       " Min.   :  1.0   Min.   :   45   Min.   :22.64     Min.   :  1.0  \n",
       " 1st Qu.:197.0   1st Qu.:18248   1st Qu.:24.45     1st Qu.:202.0  \n",
       " Median :255.0   Median :23983   Median :24.79     Median :265.0  \n",
       " Mean   :274.5   Mean   :24478   Mean   :24.81     Mean   :282.7  \n",
       " 3rd Qu.:327.0   3rd Qu.:29015   3rd Qu.:25.13     3rd Qu.:344.0  \n",
       " Max.   :740.0   Max.   :62532   Max.   :27.16     Max.   :710.0  \n",
       " NA's   :590     NA's   :590     NA's   :464       NA's   :590    \n",
       " Serum_Serum IGF-1\n",
       " Min.   : 33.80   \n",
       " 1st Qu.: 97.95   \n",
       " Median :124.00   \n",
       " Mean   :135.98   \n",
       " 3rd Qu.:162.10   \n",
       " Max.   :412.20   \n",
       " NA's   :335      "
      ]
     },
     "metadata": {},
     "output_type": "display_data"
    }
   ],
   "source": [
    "W_crude = t1 %>% filter(CLINICAL_EVENT==\"BL\") %>% \n",
    "  select(PATNO, DIAGNOSIS, TEST, TESTVALUE) %>% \n",
    "  filter(TEST %in% c(csOutcomes, ltOutcome)) %>% \n",
    "  tidyr::spread(key = \"TEST\", value = \"TESTVALUE\")\n",
    "\n",
    "# Need to be checked after\n",
    "t = W_crude\n",
    "t$`Cerebrospinal Fluid_pTau`[t$`Cerebrospinal Fluid_pTau`==\"<8\"] = NA \n",
    "t$`Cerebrospinal Fluid_tTau`[t$`Cerebrospinal Fluid_tTau`==\"<80\"] = NA \n",
    "t$`Cerebrospinal Fluid_CSF Hemoglobin`[t$`Cerebrospinal Fluid_CSF Hemoglobin`=='below'] = NA\n",
    "t$`Cerebrospinal Fluid_CSF Hemoglobin`[t$`Cerebrospinal Fluid_CSF Hemoglobin`=='above'] = NA\n",
    "\n",
    "convertNumColumns = function(df, rows_vec = c()){\n",
    "  # Convert columns with numbers to numeric. (judge from the rows_vec.)\n",
    "  # Default, look at the first and the last lines.\n",
    "  rows_vec = union(c(1, nrow(df)), rows_vec) # at least look at first and last lines\n",
    "  numcol = lapply(rows_vec, function(x){\n",
    "    c(names(df)[suppressWarnings(!is.na(as.numeric(as.character(df[x,]))))],\n",
    "      names(df)[is.na(df[x,])]) # NA cols can be number\n",
    "  })\n",
    "  numcols = Reduce(intersect, numcol)\n",
    "  df %>% mutate_at(vars(numcols), as.numeric) %>% arrange(PATNO)\n",
    "}\n",
    "W = convertNumColumns(t, 1:nrow(t))\n",
    "summary(W)"
   ]
  },
  {
   "cell_type": "code",
   "execution_count": 5,
   "metadata": {},
   "outputs": [
    {
     "data": {
      "text/html": [
       "<strong>png:</strong> 2"
      ],
      "text/latex": [
       "\\textbf{png:} 2"
      ],
      "text/markdown": [
       "**png:** 2"
      ],
      "text/plain": [
       "png \n",
       "  2 "
      ]
     },
     "metadata": {},
     "output_type": "display_data"
    }
   ],
   "source": [
    "par(mfrow=c(4,3))\n",
    "draw_density = function(df, col, thres = 4, mcex = 1){\n",
    "  t = df[, col] %>% t %>% as.vector\n",
    "  miss = is.na(t)\n",
    "  N = sum(!miss)\n",
    "  X = t[!miss]\n",
    "  M = mean(X)\n",
    "  S = sd(X)\n",
    "  Out = (X < M - thres*S) + (X > M + thres*S)\n",
    "  Noutlr = sum(Out)\n",
    "  X=X[Out==0]\n",
    "  M = mean(X)\n",
    "  S = sd(X)\n",
    "  plot(density(X), main=sprintf(\"%s, N=%.0f \\n (%.0f outlier excluded)\", col, N-Noutlr, Noutlr), cex.main = mcex)\n",
    "  curve(dnorm(x, M, S), min(X), max(X), add=T, col=\"green\")\n",
    "  t[Out==1] = NA\n",
    "  return(t)\n",
    "}\n",
    "png('figure/raw.png', width=800, height=1800)\n",
    "par(mfcol=c(9,4))\n",
    "t = lapply(names(W)[-(1:2)], function(x) draw_density(W, x, mcex = 1.3))\n",
    "dev.off()"
   ]
  },
  {
   "cell_type": "markdown",
   "metadata": {},
   "source": [
    "[The density plot of raw data](figure/raw.png) are right skewed.    \n",
    "Also, CSF hemoglobin and MT-DNAs have strange distributions.\n",
    "\n",
    "Try log transformation below.     \n",
    "MT-DNAs have the value of 0 -> excluded for this analysis"
   ]
  },
  {
   "cell_type": "code",
   "execution_count": 6,
   "metadata": {},
   "outputs": [
    {
     "name": "stderr",
     "output_type": "stream",
     "text": [
      "Warning message in function_list[[k]](value):\n",
      "\"NAs introduced by coercion\""
     ]
    },
    {
     "data": {
      "text/html": [
       "<strong>png:</strong> 2"
      ],
      "text/latex": [
       "\\textbf{png:} 2"
      ],
      "text/markdown": [
       "**png:** 2"
      ],
      "text/plain": [
       "png \n",
       "  2 "
      ]
     },
     "metadata": {},
     "output_type": "display_data"
    }
   ],
   "source": [
    "rmv = apply(W, 2, function(x) min(x, na.rm = T)) %>% as.numeric # remove the columns with minimum 0\n",
    "rmv_col = which(rmv==0)\n",
    "df = W[, -c(1:2, rmv_col)]\n",
    "df_log = log(df)\n",
    "png('figure/log.png', width=800, height=1800)\n",
    "par(mfcol=c(9,4))\n",
    "t = lapply(names(df), function(x) draw_density(df_log, x, mcex = 1.3)) %>% do.call(cbind, .) %>% data.frame()\n",
    "names(t) = names(df)\n",
    "W_log = data.frame(W[, 1:2], t)\n",
    "dev.off()"
   ]
  },
  {
   "cell_type": "markdown",
   "metadata": {},
   "source": [
    "[The density plots of log-transformed data](figure/log.png) show the better fits except for CSF-Hemoglobin still doesn't fit.\n",
    "\n",
    "<a href=\"figure/log.png\" target=\"_blank\">example</a>"
   ]
  },
  {
   "cell_type": "code",
   "execution_count": 7,
   "metadata": {},
   "outputs": [
    {
     "data": {
      "text/html": [
       "<strong>png:</strong> 2"
      ],
      "text/latex": [
       "\\textbf{png:} 2"
      ],
      "text/markdown": [
       "**png:** 2"
      ],
      "text/plain": [
       "png \n",
       "  2 "
      ]
     },
     "metadata": {},
     "output_type": "display_data"
    }
   ],
   "source": [
    "png('figure/rawVSlog.png', width=1200, height=300)\n",
    "par(mfcol=c(1,4))\n",
    "t=lapply(c('Cerebrospinal Fluid_ABeta 1-42', 'Cerebrospinal Fluid_CSF Alpha-synuclein'), function(x) draw_density(W, x, mcex = 1))\n",
    "t=lapply(c('Cerebrospinal Fluid_ABeta 1-42', 'Cerebrospinal Fluid_CSF Alpha-synuclein'), function(x) draw_density(df_log, x, mcex = 1))\n",
    "dev.off()"
   ]
  },
  {
   "cell_type": "markdown",
   "metadata": {},
   "source": [
    "[Examples of raw vs log](figure/rawVSlog.png)"
   ]
  },
  {
   "cell_type": "code",
   "execution_count": 8,
   "metadata": {},
   "outputs": [
    {
     "data": {
      "text/html": [
       "<strong>png:</strong> 2"
      ],
      "text/latex": [
       "\\textbf{png:} 2"
      ],
      "text/markdown": [
       "**png:** 2"
      ],
      "text/plain": [
       "png \n",
       "  2 "
      ]
     },
     "metadata": {},
     "output_type": "display_data"
    }
   ],
   "source": [
    "png('figure/raw_problem.png', width=1200, height=300)\n",
    "par(mfcol=c(1,4))\n",
    "CSF_Hb = W$`Cerebrospinal Fluid_CSF Hemoglobin`\n",
    "CSF_Hb[W_crude$`Cerebrospinal Fluid_CSF Hemoglobin`=='below'] = NA\n",
    "CSF_Hb[W_crude$`Cerebrospinal Fluid_CSF Hemoglobin`=='above'] = 1500\n",
    "hist(CSF_Hb, cex.main = 1.2, breaks = 20)\n",
    "hist(W$`Cerebrospinal Fluid_MTDNA_DELETION`, cex.main = 1.2, breaks = 20)\n",
    "hist(W$`Cerebrospinal Fluid_MTDNA_ND1_CN`, cex.main = 1.2, breaks = 20)\n",
    "hist(W$`Cerebrospinal Fluid_MTDNA_ND4_CN`, cex.main = 1.2, breaks = 20)\n",
    "dev.off()"
   ]
  },
  {
   "cell_type": "markdown",
   "metadata": {},
   "source": [
    "[None normal distributions in raw or log (histgrams of raw data)](figure/raw_problem.png)"
   ]
  },
  {
   "cell_type": "code",
   "execution_count": 9,
   "metadata": {},
   "outputs": [
    {
     "name": "stdout",
     "output_type": "stream",
     "text": [
      "[1] 3\n",
      "[1] 4\n",
      "[1] 6\n",
      "[1] 7\n"
     ]
    },
    {
     "data": {
      "text/html": [
       "<strong>png:</strong> 2"
      ],
      "text/latex": [
       "\\textbf{png:} 2"
      ],
      "text/markdown": [
       "**png:** 2"
      ],
      "text/plain": [
       "png \n",
       "  2 "
      ]
     },
     "metadata": {},
     "output_type": "display_data"
    }
   ],
   "source": [
    "png('figure/CSF_HbEffect_plus.png', width=1200, height=300)\n",
    "par(mfcol=c(1,4))\n",
    "CSFmarkerIdx = setdiff(grep(\"Cerebrospinal\", names(W_log)), grep(\"Hemoglobin\", names(W_log)))\n",
    "for (i in CSFmarkerIdx){\n",
    "  print(i)\n",
    "  Y = W_log[,i]\n",
    "#   X = log(W$`Cerebrospinal Fluid_CSF Hemoglobin`)\n",
    "#   X = log(CSF_Hb)\n",
    "  X = CSF_Hb\n",
    "  df = data.frame(X=X, Y=Y) %>% filter(complete.cases(.)) %>% arrange(X)\n",
    "  plot(df, ylab = names(W_log)[i], xlab = 'log(CSF_Hb)')\n",
    "  lw = loess(Y~X, data = df) \n",
    "  lines(df$X, lw$fitted, col = 'red')\n",
    "}\n",
    "dev.off()"
   ]
  },
  {
   "cell_type": "markdown",
   "metadata": {},
   "source": [
    "#### Figures to assess the effect of CSF-Hb\n",
    "CSF_Hb are labelled as 'below' or 'above' when it wasn't in the measurable range. \n",
    "1. [log(CSF-ASNA) vs raw CSF-Hb](figure/CSF_HbEffect.png)\n",
    "2. [log(CSF-ASNA) vs raw CSF-Hb (giving 5 'below' and 1500 for 'above' for CSF-Hb](figure/CSF_HbEffect_plus.png)\n",
    "3. [log(CSF-ASNA) vs log CSF-Hb](figure/CSF_HbEffect_log.png)\n",
    "4. [log(CSF-ASNA) vs log CSF-Hb (giving 5 'below' and 1500 for 'above' for CSF-Hb](figure/CSF_HbEffect_log_plus.png)\n",
    "\n",
    "The effect on CSF-Hb on CSF-ASYN are not apparent. "
   ]
  },
  {
   "cell_type": "code",
   "execution_count": 12,
   "metadata": {},
   "outputs": [
    {
     "name": "stderr",
     "output_type": "stream",
     "text": [
      "Warning message in evalq(log(as.numeric(TESTVALUE)), <environment>):\n",
      "\"NAs introduced by coercion\"Warning message in evalq(log(as.numeric(TESTVALUE)), <environment>):\n",
      "\"NAs introduced by coercion\"Warning message in evalq(log(as.numeric(TESTVALUE)), <environment>):\n",
      "\"NAs introduced by coercion\""
     ]
    },
    {
     "data": {
      "text/html": [
       "<strong>null device:</strong> 1"
      ],
      "text/latex": [
       "\\textbf{null device:} 1"
      ],
      "text/markdown": [
       "**null device:** 1"
      ],
      "text/plain": [
       "null device \n",
       "          1 "
      ]
     },
     "metadata": {},
     "output_type": "display_data"
    },
    {
     "name": "stderr",
     "output_type": "stream",
     "text": [
      "Warning message:\n",
      "\"Removed 42 rows containing non-finite values (stat_boxplot).\"Warning message:\n",
      "\"Removed 193 rows containing non-finite values (stat_boxplot).\"Warning message:\n",
      "\"Removed 31 rows containing non-finite values (stat_boxplot).\"Warning message:\n",
      "\"Removed 4 rows containing non-finite values (stat_boxplot).\"Warning message:\n",
      "\"Removed 1 rows containing non-finite values (stat_boxplot).\"Warning message:\n",
      "\"Removed 4 rows containing non-finite values (stat_boxplot).\"Warning message:\n",
      "\"Removed 42 rows containing non-finite values (stat_boxplot).\"Warning message:\n",
      "\"Removed 193 rows containing non-finite values (stat_boxplot).\"Warning message:\n",
      "\"Removed 31 rows containing non-finite values (stat_boxplot).\"Warning message:\n",
      "\"Removed 4 rows containing non-finite values (stat_boxplot).\"Warning message:\n",
      "\"Removed 1 rows containing non-finite values (stat_boxplot).\"Warning message:\n",
      "\"Removed 4 rows containing non-finite values (stat_boxplot).\""
     ]
    }
   ],
   "source": [
    "require(ggplot2)\n",
    "# png(\"figure/chronological.png\", width = 1800, height = 600)\n",
    "# par(mfcol = c(2,6))\n",
    "p = list()\n",
    "for (C in ltOutcome[-(1:4)]){ # first 4 are CSF_Hb and MTDNAs\n",
    "    d = LT %>% filter(TEST == C) %>% mutate(X = log(as.numeric(TESTVALUE))) %>%\n",
    "      filter(CLINICAL_EVENT %in% c(\"BL\", \"V02\", \"V04\", \"V06\", \"V08\")) %>%\n",
    "      select(PATNO, DIAGNOSIS, CLINICAL_EVENT, X) \n",
    "    p[[C]] = ggplot(data = d, aes(x = CLINICAL_EVENT, y = X)) +\n",
    "      geom_boxplot(aes(fill=DIAGNOSIS)) + \n",
    "      ylab(paste(C, \"(log)\"))\n",
    "}\n",
    "dev.off()\n",
    "library(gridExtra)\n",
    "grid.arrange(grobs = p, ncol = 2)\n",
    "ggsave(\"figure/chronological.png\", arrangeGrob(grobs=p, ncol = 6), width = 24, height = 8, dpi=100)"
   ]
  },
  {
   "cell_type": "markdown",
   "metadata": {},
   "source": [
    "#### Figures to assess the chronological change over longitudinal outcomes\n",
    "[Figures](figure/chronological.png)\n",
    "1. CSF_markers are consistently lower for PD groups over time. No apparent chronological effect\n",
    "2. For RNAs, BL are lower than others across different RNAs. Seems like a batch effect. Safer not to test a chronological effect unless we are sure about whether or not we need to correct these.\n"
   ]
  },
  {
   "cell_type": "code",
   "execution_count": null,
   "metadata": {},
   "outputs": [],
   "source": []
  }
 ],
 "metadata": {
  "kernelspec": {
   "display_name": "R/3.5",
   "language": "R",
   "name": "ir35"
  },
  "language_info": {
   "codemirror_mode": "r",
   "file_extension": ".r",
   "mimetype": "text/x-r-source",
   "name": "R",
   "pygments_lexer": "r",
   "version": "3.5.0"
  }
 },
 "nbformat": 4,
 "nbformat_minor": 2
}
