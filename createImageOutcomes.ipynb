{
 "cells": [
  {
   "cell_type": "markdown",
   "metadata": {},
   "source": [
    "# Create DAT analysis file"
   ]
  },
  {
   "cell_type": "code",
   "execution_count": 65,
   "metadata": {},
   "outputs": [],
   "source": [
    "library(data.table);library(dplyr)\n",
    "# Read data and check the dup.\n",
    "dat_res = fread('../PDcohorts//PPMI/download181018/DATScan_Analysis.csv')\n",
    "dat_dx = fread('../PDcohorts//PPMI/download181018/DaTSCAN_SPECT_Visual_Interpretation_Assessment.csv')\n",
    "dat_loc = fread('../PDcohorts//PPMI/download181018/DaTscan_Imaging.csv')\n",
    "dx = fread('../PDcohorts/PPMI/out181018/DEMOG_DIAG.csv')\n",
    "\n",
    "# Solve duplication \n",
    "# dat_res %>% group_by(PATNO, EVENT_ID) %>% filter(n()>1)\n",
    "# dat_dx %>% group_by(PATNO) %>% filter(n()>1)\n",
    "# dat_loc %>% group_by(PATNO, EVENT_ID) %>% filter(n()>1)\n",
    "# dat_res %>% filter(PATNO %in% c(3861, 4120))\n",
    "dat_dx = dat_dx %>% distinct(PATNO, .keep_all = T)"
   ]
  },
  {
   "cell_type": "code",
   "execution_count": 66,
   "metadata": {},
   "outputs": [
    {
     "data": {
      "text/plain": [
       "        RECRUIT\n",
       "EVENT_ID GENPD  HC  PD REGPD REGUN SWEDD\n",
       "     SC    188 195 435     2     2    77\n",
       "     ST      0   0  32     0     0     0\n",
       "     U01     3  17  25     1     0     7\n",
       "     U02     0   0   7     0     0     1\n",
       "     V04     2   1 350     0     0     4\n",
       "     V06    61   0 335     2     0    47\n",
       "     V10     0   1 283     0     0     2"
      ]
     },
     "metadata": {},
     "output_type": "display_data"
    }
   ],
   "source": [
    "# Combine data\n",
    "df = left_join(dat_res, dat_dx[,c(\"PATNO\", \"VISINTRP\")], by = \"PATNO\") %>% \n",
    "  left_join(., dat_loc[, c(\"PATNO\", \"EVENT_ID\", \"SCNLOC\")], by = c(\"PATNO\", \"EVENT_ID\")) %>% \n",
    "  left_join(., dx[,c(\"PATNO\", \"RECRUIT\", \"FEMALE\", \"BIRTHDT\", \"DX_INIT\", \"DIAG\")], by = \"PATNO\")\n",
    "\n",
    "# Table\n",
    "df %>% with(table(EVENT_ID, RECRUIT))"
   ]
  },
  {
   "cell_type": "markdown",
   "metadata": {},
   "source": [
    "In the following analysis, exclude the obs from the small cells (count < 40)    \n",
    "#### Eliminate unexpected obs small number cohorts. "
   ]
  },
  {
   "cell_type": "code",
   "execution_count": 67,
   "metadata": {},
   "outputs": [
    {
     "data": {
      "text/plain": [
       "        RECRUIT\n",
       "EVENT_ID GENPD  HC  PD SWEDD\n",
       "     SC    188 195 435    77\n",
       "     V04     0   0 350     0\n",
       "     V06    61   0 335    47\n",
       "     V10     0   0 283     0"
      ]
     },
     "metadata": {},
     "output_type": "display_data"
    }
   ],
   "source": [
    "df_original = df\n",
    "df = df_original %>% \n",
    "  group_by(EVENT_ID, RECRUIT) %>% filter(n()>40) %>% \n",
    "  ungroup() %>% data.frame()\n",
    "\n",
    "# Table\n",
    "df %>% with(table(EVENT_ID, RECRUIT))"
   ]
  },
  {
   "cell_type": "markdown",
   "metadata": {},
   "source": [
    "#### Check the distribution of values"
   ]
  },
  {
   "cell_type": "code",
   "execution_count": 68,
   "metadata": {},
   "outputs": [
    {
     "data": {
      "text/html": [
       "<strong>png:</strong> 2"
      ],
      "text/latex": [
       "\\textbf{png:} 2"
      ],
      "text/markdown": [
       "**png:** 2"
      ],
      "text/plain": [
       "png \n",
       "  2 "
      ]
     },
     "metadata": {},
     "output_type": "display_data"
    },
    {
     "data": {
      "text/html": [
       "<strong>png:</strong> 2"
      ],
      "text/latex": [
       "\\textbf{png:} 2"
      ],
      "text/markdown": [
       "**png:** 2"
      ],
      "text/plain": [
       "png \n",
       "  2 "
      ]
     },
     "metadata": {},
     "output_type": "display_data"
    },
    {
     "data": {
      "text/html": [
       "<strong>png:</strong> 2"
      ],
      "text/latex": [
       "\\textbf{png:} 2"
      ],
      "text/markdown": [
       "**png:** 2"
      ],
      "text/plain": [
       "png \n",
       "  2 "
      ]
     },
     "metadata": {},
     "output_type": "display_data"
    },
    {
     "data": {
      "text/html": [
       "<strong>png:</strong> 2"
      ],
      "text/latex": [
       "\\textbf{png:} 2"
      ],
      "text/markdown": [
       "**png:** 2"
      ],
      "text/plain": [
       "png \n",
       "  2 "
      ]
     },
     "metadata": {},
     "output_type": "display_data"
    },
    {
     "data": {
      "text/html": [
       "<strong>png:</strong> 2"
      ],
      "text/latex": [
       "\\textbf{png:} 2"
      ],
      "text/markdown": [
       "**png:** 2"
      ],
      "text/plain": [
       "png \n",
       "  2 "
      ]
     },
     "metadata": {},
     "output_type": "display_data"
    },
    {
     "data": {
      "text/html": [
       "<strong>png:</strong> 2"
      ],
      "text/latex": [
       "\\textbf{png:} 2"
      ],
      "text/markdown": [
       "**png:** 2"
      ],
      "text/plain": [
       "png \n",
       "  2 "
      ]
     },
     "metadata": {},
     "output_type": "display_data"
    }
   ],
   "source": [
    "draw_density = function(df, col, thres = 4, mcex = 1, plot = TRUE){\n",
    "  t = df[, col] %>% t %>% as.vector\n",
    "  miss = is.na(t)\n",
    "  N = sum(!miss)\n",
    "  X = t[!miss]\n",
    "  M = mean(X)\n",
    "  S = sd(X)\n",
    "  Out = (X < M - thres*S) + (X > M + thres*S)\n",
    "  Noutlr = sum(Out)\n",
    "  X=X[Out==0]\n",
    "  M = mean(X)\n",
    "  S = sd(X)\n",
    "  if(plot){\n",
    "    plot(density(X), main=sprintf(\"%s, N=%.0f \\n (%.0f outlier excluded)\", col, N-Noutlr, Noutlr), cex.main = mcex)\n",
    "    curve(dnorm(x, M, S), min(X), max(X), add=T, col=\"green\")\n",
    "  }\n",
    "  t[Out==1] = NA\n",
    "  return(t)\n",
    "}\n",
    "df_sc = df %>% filter(EVENT_ID == \"SC\") \n",
    "png('figure/dat_raw.png', width=800, height=800)\n",
    "par(mfrow = c(2,2))\n",
    "t = lapply(names(df)[3:6], function(x) draw_density(col = x, df = subset(df_sc, RECRUIT == \"PD\")))\n",
    "dev.off()\n",
    "# log transformation\n",
    "df_sc_log = df_sc\n",
    "df_sc_log[,3:6] = log(df_sc_log[,3:6])\n",
    "png('figure/dat_log.png', width=800, height=800)\n",
    "par(mfrow = c(2,2))\n",
    "t = lapply(names(df)[3:6], function(x) draw_density(col = x, df = subset(df_sc_log, RECRUIT == \"PD\")))\n",
    "dev.off()\n",
    "\n",
    "\n",
    "# PD V10\n",
    "df_v10 = df %>% filter(EVENT_ID == \"V10\")\n",
    "png('figure/dat_raw_V10.png', width=800, height=800)\n",
    "par(mfrow = c(2,2))\n",
    "t = lapply(names(df)[3:6], function(x) draw_density(col = x, df = subset(df_v10, RECRUIT == \"PD\")))\n",
    "dev.off()\n",
    "# log transformation\n",
    "df_v10_log = df_v10\n",
    "df_v10_log[,3:6] = log(df_v10_log[,3:6])\n",
    "png('figure/dat_log_V10.png', width=800, height=800)\n",
    "par(mfrow = c(2,2))\n",
    "t = lapply(names(df)[3:6], function(x) draw_density(col = x, df = subset(df_v10_log, RECRUIT == \"PD\")))\n",
    "dev.off()\n",
    "\n",
    "# HC\n",
    "png('figure/dat_raw_HC.png', width=800, height=800)\n",
    "par(mfrow = c(2,2))\n",
    "t = lapply(names(df)[3:6], function(x) draw_density(col = x, df = subset(df_sc, RECRUIT %in% c(\"HC\", \"SWEDD\"))))\n",
    "dev.off()\n",
    "png('figure/dat_log_HC.png', width=800, height=800)\n",
    "par(mfrow = c(2,2))\n",
    "t = lapply(names(df)[3:6], function(x) draw_density(col = x, df = subset(df_sc_log, RECRUIT %in% c(\"HC\", \"SWEDD\"))))\n",
    "dev.off()\n"
   ]
  },
  {
   "cell_type": "markdown",
   "metadata": {},
   "source": [
    "1. [raw density plot of value at screening for PD](figure/dat_raw.png)\n",
    "2. [log density plot of value at screening for PD](figure/dat_log.png)\n",
    "3. [raw density plot of value at visit 10 for PD](figure/dat_raw_V10.png)\n",
    "4. [log density plot of value at visit 10 for PD](figure/dat_log_V10.png)\n",
    "3. [raw density plot of value at screening for HC/SWEDD](figure/dat_raw_HC.png)\n",
    "4. [log density plot of value at screening for HC/SWEDD](figure/dat_log_HC.png)\n",
    "\n",
    "For PD, the raw values are normally distributed for the caudate, but not for putamine.    \n",
    "For HC, the log-transformations are better.     \n",
    "**For consistency, use the log-transformed values**"
   ]
  },
  {
   "cell_type": "code",
   "execution_count": 69,
   "metadata": {},
   "outputs": [],
   "source": [
    "df[, 3:6] = log(df[, 3:6])\n",
    "names(df)[3:6]= paste(names(df)[3:6], 'log', sep = \"_\")\n",
    "# exclude outliers\n",
    "df[,3:6] = lapply(names(df)[3:6], function(x) draw_density(df, col = x, plot = FALSE))"
   ]
  },
  {
   "cell_type": "markdown",
   "metadata": {},
   "source": [
    "#### Check if different scanning locations affect the results on SC-> OK."
   ]
  },
  {
   "cell_type": "code",
   "execution_count": 70,
   "metadata": {},
   "outputs": [
    {
     "data": {
      "text/html": [
       "<table>\n",
       "<thead><tr><th scope=col>Estimate</th><th scope=col>Std. Error</th><th scope=col>t value</th><th scope=col>Pr(&gt;|t|)</th></tr></thead>\n",
       "<tbody>\n",
       "\t<tr><td> 0.02647787</td><td>0.07119552 </td><td> 0.3719037 </td><td>0.7100611  </td></tr>\n",
       "\t<tr><td> 0.01280366</td><td>0.07024657 </td><td> 0.1822674 </td><td>0.8554182  </td></tr>\n",
       "\t<tr><td>-0.08953340</td><td>0.11353060 </td><td>-0.7886280 </td><td>0.4305585  </td></tr>\n",
       "\t<tr><td>-0.04091599</td><td>0.11359375 </td><td>-0.3601958 </td><td>0.7187939  </td></tr>\n",
       "</tbody>\n",
       "</table>\n"
      ],
      "text/latex": [
       "\\begin{tabular}{llll}\n",
       " Estimate & Std. Error & t value & Pr(>\\textbar{}t\\textbar{})\\\\\n",
       "\\hline\n",
       "\t  0.02647787 & 0.07119552  &  0.3719037  & 0.7100611  \\\\\n",
       "\t  0.01280366 & 0.07024657  &  0.1822674  & 0.8554182  \\\\\n",
       "\t -0.08953340 & 0.11353060  & -0.7886280  & 0.4305585  \\\\\n",
       "\t -0.04091599 & 0.11359375  & -0.3601958  & 0.7187939  \\\\\n",
       "\\end{tabular}\n"
      ],
      "text/markdown": [
       "\n",
       "Estimate | Std. Error | t value | Pr(>|t|) | \n",
       "|---|---|---|---|\n",
       "|  0.02647787 | 0.07119552  |  0.3719037  | 0.7100611   | \n",
       "|  0.01280366 | 0.07024657  |  0.1822674  | 0.8554182   | \n",
       "| -0.08953340 | 0.11353060  | -0.7886280  | 0.4305585   | \n",
       "| -0.04091599 | 0.11359375  | -0.3601958  | 0.7187939   | \n",
       "\n",
       "\n"
      ],
      "text/plain": [
       "     Estimate    Std. Error t value    Pr(>|t|) \n",
       "[1,]  0.02647787 0.07119552  0.3719037 0.7100611\n",
       "[2,]  0.01280366 0.07024657  0.1822674 0.8554182\n",
       "[3,] -0.08953340 0.11353060 -0.7886280 0.4305585\n",
       "[4,] -0.04091599 0.11359375 -0.3601958 0.7187939"
      ]
     },
     "metadata": {},
     "output_type": "display_data"
    }
   ],
   "source": [
    "df_sc = df %>% filter(EVENT_ID == \"SC\") \n",
    "lapply(names(df_sc)[3:6], function(x){\n",
    "    lm(df_sc[, x] ~ df_sc$SCNLOC) %>% summary %>% coef() %>% .[2,]\n",
    "  }) %>% do.call(rbind, .)"
   ]
  },
  {
   "cell_type": "markdown",
   "metadata": {},
   "source": [
    "Scanning location (1,2) doesn't affect the results"
   ]
  },
  {
   "cell_type": "code",
   "execution_count": 71,
   "metadata": {},
   "outputs": [
    {
     "name": "stderr",
     "output_type": "stream",
     "text": [
      "Warning message:\n",
      "\"Removed 6 rows containing non-finite values (stat_boxplot).\"Warning message:\n",
      "\"Removed 9 rows containing non-finite values (stat_boxplot).\"Warning message:\n",
      "\"Removed 1 rows containing non-finite values (stat_boxplot).\"Warning message:\n",
      "\"Removed 5 rows containing non-finite values (stat_boxplot).\""
     ]
    }
   ],
   "source": [
    "# see the chronological chagne\n",
    "require(ggplot2)\n",
    "# png(\"figure/chronological.png\", width = 1800, height = 600)\n",
    "# par(mfcol = c(2,6))\n",
    "p = list()\n",
    "for (C in names(df)[3:6]){ # first 4 are CSF_Hb and MTDNAs\n",
    "  df$Y = df[, C]\n",
    "  p[[C]] = ggplot(data = df, aes(x = EVENT_ID, y = Y)) +\n",
    "    geom_boxplot(aes(fill=RECRUIT)) + \n",
    "    ylab(paste(C))\n",
    "  df$Y = NULL\n",
    "}\n",
    "library(gridExtra)\n",
    "ggsave(\"figure/dat.png\", arrangeGrob(grobs=p, nrow = 2), width = 8, height = 8, dpi=100)"
   ]
  },
  {
   "cell_type": "markdown",
   "metadata": {},
   "source": [
    "[The chronological change](figure/dat.png)     \n",
    "The signal dicreases as time goes by.    \n",
    "The distribution is right skewed. Try log-transformation"
   ]
  },
  {
   "cell_type": "code",
   "execution_count": 72,
   "metadata": {},
   "outputs": [
    {
     "data": {
      "text/plain": [
       "     PATNO         EVENT_ID         CAUDATE_R_log     CAUDATE_L_log    \n",
       " Min.   : 3000   Length:1971        Min.   :-1.1087   Min.   :-1.0498  \n",
       " 1st Qu.: 3326   Class :character   1st Qu.: 0.3436   1st Qu.: 0.3507  \n",
       " Median : 3605   Mode  :character   Median : 0.6206   Median : 0.6259  \n",
       " Mean   : 8979                      Mean   : 0.5867   Mean   : 0.5940  \n",
       " 3rd Qu.: 4020                      3rd Qu.: 0.8796   3rd Qu.: 0.8660  \n",
       " Max.   :72784                      Max.   : 1.6014   Max.   : 1.5581  \n",
       "                                    NA's   :6         NA's   :9        \n",
       " PUTAMEN_R_log      PUTAMEN_L_log        VISINTRP             SCNLOC     \n",
       " Min.   :-2.65926   Min.   :-2.65926   Length:1971        Min.   :1.000  \n",
       " 1st Qu.:-0.65393   1st Qu.:-0.67334   Class :character   1st Qu.:1.000  \n",
       " Median :-0.34249   Median :-0.35668   Mode  :character   Median :1.000  \n",
       " Mean   :-0.25836   Mean   :-0.27556                      Mean   :1.026  \n",
       " 3rd Qu.: 0.09531   3rd Qu.: 0.04879                      3rd Qu.:1.000  \n",
       " Max.   : 1.32442   Max.   : 1.45161                      Max.   :2.000  \n",
       " NA's   :1          NA's   :5                             NA's   :91     \n",
       "   RECRUIT              FEMALE          BIRTHDT         DX_INIT         \n",
       " Length:1971        Min.   :0.0000   Min.   :-16650   Length:1971       \n",
       " Class :character   1st Qu.:0.0000   1st Qu.: -9711   Class :character  \n",
       " Mode  :character   Median :0.0000   Median : -7154   Mode  :character  \n",
       "                    Mean   :0.3729   Mean   : -6907                     \n",
       "                    3rd Qu.:1.0000   3rd Qu.: -4232                     \n",
       "                    Max.   :1.0000   Max.   :  5265                     \n",
       "                                                                        \n",
       "     DIAG          \n",
       " Length:1971       \n",
       " Class :character  \n",
       " Mode  :character  \n",
       "                   \n",
       "                   \n",
       "                   \n",
       "                   "
      ]
     },
     "metadata": {},
     "output_type": "display_data"
    }
   ],
   "source": [
    "summary(df)"
   ]
  },
  {
   "cell_type": "code",
   "execution_count": 73,
   "metadata": {},
   "outputs": [],
   "source": [
    "fwrite(df, 'output/DAT.csv')"
   ]
  }
 ],
 "metadata": {
  "kernelspec": {
   "display_name": "R/3.5",
   "language": "R",
   "name": "ir35"
  },
  "language_info": {
   "codemirror_mode": "r",
   "file_extension": ".r",
   "mimetype": "text/x-r-source",
   "name": "R",
   "pygments_lexer": "r",
   "version": "3.5.0"
  }
 },
 "nbformat": 4,
 "nbformat_minor": 2
}
